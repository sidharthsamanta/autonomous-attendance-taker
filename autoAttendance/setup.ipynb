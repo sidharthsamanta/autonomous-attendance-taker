{
 "cells": [
  {
   "cell_type": "markdown",
   "metadata": {},
   "source": [
    "# SETUP for\n",
    "# Autonomous Class Attendance System using Face Recognition"
   ]
  },
  {
   "cell_type": "markdown",
   "metadata": {},
   "source": [
    "Importing Modules\n",
    "--------------"
   ]
  },
  {
   "cell_type": "code",
   "execution_count": 1,
   "metadata": {},
   "outputs": [],
   "source": [
    "#FOr dataset creator\n",
    "import numpy as np\n",
    "import cv2\n",
    "from matplotlib import pyplot as plt\n",
    "\n",
    "#For Trainer\n",
    "from PIL import Image\n",
    "import os\n",
    "\n",
    "#For data updations\n",
    "import pandas as pd"
   ]
  },
  {
   "cell_type": "code",
   "execution_count": null,
   "metadata": {},
   "outputs": [],
   "source": []
  },
  {
   "cell_type": "markdown",
   "metadata": {},
   "source": [
    "Managing data\n",
    "------------------------------------------"
   ]
  },
  {
   "cell_type": "markdown",
   "metadata": {},
   "source": [
    "Reseting the database"
   ]
  },
  {
   "cell_type": "code",
   "execution_count": 2,
   "metadata": {},
   "outputs": [],
   "source": [
    "#used to reset the data and image dataset\n",
    "def reset(x):\n",
    "    #cross checking to format all information, just for precaution\n",
    "    if x==\"admin\":\n",
    "        #initialization value\n",
    "        x=[]\n",
    "        y=[[0,\"Dummy\"]]\n",
    "        \n",
    "        #importing the data frame from csv file\n",
    "        dataframex=pd.DataFrame(x,columns=[\"Date\"])\n",
    "        dataframey=pd.DataFrame(y,columns=['Roll','Name'])\n",
    "        \n",
    "        #writting back blank value in the csv file\n",
    "        dataframex.to_csv (\"attendance.csv\",index=False)\n",
    "        dataframey.to_csv (\"roll.csv\",index=False)\n",
    "        \n",
    "        #success feedback for data (csv)\n",
    "        print(\"Data reset complete\")\n",
    "        \n",
    "        #assingning dataset path \n",
    "        d='dataset'\n",
    "        \n",
    "        #selecting taget\n",
    "        filesToRemove = [os.path.join(d,f) for f in os.listdir(d)]\n",
    "        \n",
    "        #iterating removal process for all file present\n",
    "        for f in filesToRemove:\n",
    "            \n",
    "            #delection process\n",
    "            os.remove(f)\n",
    "        \n",
    "        #success feedback for dataset (image)\n",
    "        print(\"Database reset complete\")\n",
    "    \n",
    "    #incase of wrong keyword\n",
    "    else:\n",
    "        \n",
    "        #failure feedback\n",
    "        print(\"Failed to reset\")"
   ]
  },
  {
   "cell_type": "code",
   "execution_count": 3,
   "metadata": {},
   "outputs": [],
   "source": [
    "#used to set new attributes in the csv data\n",
    "def setRec(id,name):\n",
    "    \n",
    "    #importing the data frame from csv file\n",
    "    x=pd.read_csv(\"attendance.csv\")\n",
    "    y=pd.read_csv(\"roll.csv\")\n",
    "    \n",
    "    #adding a student and roll no sheet\n",
    "    a=[id,name]\n",
    "    #\n",
    "    m=y.append({\"Roll\":id,\"Name\":name},ignore_index=True)\n",
    "    #writting back to csv file\n",
    "    m.to_csv(\"roll.csv\",index=False)\n",
    "    \n",
    "    #adding a student in attendance sheet\n",
    "    x.update({id:[]})\n",
    "    #writting back to csv file\n",
    "    x.to_csv(\"attendance.csv\",index=False)"
   ]
  },
  {
   "cell_type": "code",
   "execution_count": null,
   "metadata": {},
   "outputs": [],
   "source": []
  },
  {
   "cell_type": "markdown",
   "metadata": {},
   "source": [
    "Checking the camera\n",
    "------------------------------"
   ]
  },
  {
   "cell_type": "code",
   "execution_count": 4,
   "metadata": {},
   "outputs": [],
   "source": [
    "#checking the camera\n",
    "def camera():\n",
    "    \n",
    "    #imprting the openCV cascade for frontal face detection\n",
    "    faceDetect = cv2.CascadeClassifier('haarcascade_frontalface_default.xml')\n",
    "    \n",
    "    #setting the input source to the webcam\n",
    "    cam=cv2.VideoCapture(0)\n",
    "    \n",
    "    #running the image capturing window\n",
    "    while(True):\n",
    "        \n",
    "        #reading the frame\n",
    "        rett,img=cam.read()\n",
    "        \n",
    "        #convering the color image into grayscale as the cascade only understand grayscale value\n",
    "        gray=cv2.cvtColor(img,cv2.COLOR_BGR2GRAY)\n",
    "        \n",
    "        #getting the multiscale value\n",
    "        faces=faceDetect.detectMultiScale(gray,1.3,5)\n",
    "        \n",
    "        #putting a rectangle frame on face\n",
    "        for(x,y,w,h) in faces:\n",
    "            \n",
    "            #putting the rectangle frame on every face\n",
    "            cv2.rectangle(img,(x,y),(x+w,y+h),(0,0,255),2)\n",
    "        \n",
    "        #starting webcam\n",
    "        cv2.imshow(\"Face\",img)\n",
    "        \n",
    "        #stopping the camera\n",
    "        if (cv2.waitKey(1)==ord(\"q\")):\n",
    "            break\n",
    "            \n",
    "    #closing the camera window\n",
    "    cam.release()\n",
    "    cv2.destroyWindow(\"Face\")\n"
   ]
  },
  {
   "cell_type": "code",
   "execution_count": null,
   "metadata": {},
   "outputs": [],
   "source": []
  },
  {
   "cell_type": "markdown",
   "metadata": {},
   "source": [
    "Training the machine with data\n",
    "------------"
   ]
  },
  {
   "cell_type": "code",
   "execution_count": 5,
   "metadata": {},
   "outputs": [],
   "source": [
    "#associating image with id\n",
    "def getImagesWithId(path):\n",
    "    \n",
    "    #setting the image path\n",
    "    imagePaths=[os.path.join(path,f) for f in os.listdir(path)]\n",
    "    \n",
    "    #initializing the values\n",
    "    faces=[]\n",
    "    IDs=[]\n",
    "    \n",
    "    #iterating for every image in the directory\n",
    "    for imagePath in imagePaths:\n",
    "        \n",
    "        #getting the picture data from path and converting it into 8 bit black and white (L)\n",
    "        faceImg=Image.open(imagePath).convert(\"L\")\n",
    "        \n",
    "        #converting the pic into a numpy array in integer data type (8 bit)\n",
    "        faceNp=np.array(faceImg,\"uint8\")\n",
    "        \n",
    "        #getting back the student id from the photo name\n",
    "        ID=int(os.path.split(imagePath)[-1].split(\".\")[1])\n",
    "        \n",
    "        #appending the face matrix in the list\n",
    "        faces.append(faceNp)\n",
    "        \n",
    "        #appending the id values in the list\n",
    "        IDs.append(ID)\n",
    "        \n",
    "        #opening the training window\n",
    "        cv2.imshow(\"training\",faceNp)\n",
    "        cv2.waitKey(10)\n",
    "    \n",
    "    #returning the id and face list\n",
    "    return np.array(IDs), faces"
   ]
  },
  {
   "cell_type": "code",
   "execution_count": 6,
   "metadata": {},
   "outputs": [],
   "source": [
    "#used to train the model with images\n",
    "def trainMachine():\n",
    "    \n",
    "    ##getting the cascade information from openCV\n",
    "    recognizer=cv2.face.LBPHFaceRecognizer_create()\n",
    "    \n",
    "    #setting the dataset path\n",
    "    path=\"dataset/\"\n",
    "\n",
    "    #geting the id and associated images\n",
    "    Ids,faces=getImagesWithId(path)\n",
    "    \n",
    "    #traing with image data and ralting with id\n",
    "    recognizer.train(faces,Ids)\n",
    "    \n",
    "    #saving the training infromation in location\n",
    "    recognizer.save(\"recognizer/trainingData.yml\")\n",
    "    \n",
    "    #closing the training window\n",
    "    cv2.destroyWindow(\"training\")"
   ]
  },
  {
   "cell_type": "code",
   "execution_count": 7,
   "metadata": {},
   "outputs": [],
   "source": [
    "#used to collect the sample images i.e. used to train the machine\n",
    "def train():\n",
    "    #getting the cascade information from openCV\n",
    "    faceDetect = cv2.CascadeClassifier('haarcascade_frontalface_default.xml')\n",
    "    \n",
    "    #getting the image source from web camera\n",
    "    cam=cv2.VideoCapture(0)\n",
    "    \n",
    "    #initializing sample no, It is used to name the sample photos\n",
    "    sampleNum=0\n",
    "    \n",
    "    #getting the dataframe from csv\n",
    "    y=pd.read_csv(\"roll.csv\")\n",
    "    \n",
    "    #setting the id value as the no of columns in the dataframe\n",
    "    #to assign new student we have to increase the value of id\n",
    "    id=y.shape[0]\n",
    "    \n",
    "    #print the id value of the new student\n",
    "    print(id)\n",
    "    \n",
    "    #getting the student name\n",
    "    name=input(\"Enter student name : \")\n",
    "    \n",
    "    #updating the student id and name in the csv\n",
    "    setRec(id,name)\n",
    "\n",
    "    #running the image capturing window\n",
    "    while(True):\n",
    "        \n",
    "        #reading the frame\n",
    "        rett,img=cam.read()\n",
    "        \n",
    "        #convering the color image into grayscale as the cascade only understand grayscale value\n",
    "        gray=cv2.cvtColor(img, cv2.COLOR_BGR2GRAY)\n",
    "        \n",
    "        #getting the multiscale value\n",
    "        faces=faceDetect.detectMultiScale(gray,1.3,5)\n",
    "        \n",
    "        #collecting the sample images and putting a rectangle frame on face \n",
    "        for(x,y,w,h) in faces:\n",
    "            \n",
    "            #increasing the sample number with each iteration\n",
    "            sampleNum=sampleNum+1\n",
    "            \n",
    "            #storing the sample images\n",
    "            cv2.imwrite(\"dataset/User.\"+str(id)+\".\"+str(sampleNum)+\".jpg\",gray[y:y+h,x:x+w])\n",
    "            \n",
    "            #showing the rectangle\n",
    "            cv2.rectangle(img,(x,y),(x+w,y+h),(0,0,255),2)\n",
    "            cv2.waitKey(100)\n",
    "        \n",
    "        #starting the webcam window\n",
    "        cv2.imshow(\"face\",img)\n",
    "        \n",
    "        #putting regular interval between two samples to take diverse images\n",
    "        cv2.waitKey(2)\n",
    "        \n",
    "        #stopping the capturing process after collection of 30 successful face samples\n",
    "        if (sampleNum>30):\n",
    "            break\n",
    "    \n",
    "    \n",
    "    \n",
    "    \n",
    "    #closing camera window\n",
    "    cam.release()\n",
    "    cv2.destroyWindow(\"face\")\n",
    "    cv2.waitKey(1)\n",
    "    \n",
    "    #training the machine\n",
    "    trainMachine()\n"
   ]
  },
  {
   "cell_type": "code",
   "execution_count": null,
   "metadata": {},
   "outputs": [],
   "source": []
  },
  {
   "cell_type": "markdown",
   "metadata": {},
   "source": [
    "Recognizer\n",
    "-----------"
   ]
  },
  {
   "cell_type": "code",
   "execution_count": 8,
   "metadata": {},
   "outputs": [],
   "source": [
    "#this will recognize the face with name of the preson\n",
    "def recognize():\n",
    "    \n",
    "    #getting the cascade information from openCV\n",
    "    faceDetect = cv2.CascadeClassifier('haarcascade_frontalface_default.xml')\n",
    "    \n",
    "    #getting the image source from web camera\n",
    "    cam=cv2.VideoCapture(0)\n",
    "    rec=cv2.face.LBPHFaceRecognizer_create()\n",
    "    \n",
    "    #declaring font of the text in the frame\n",
    "    font=cv2.FONT_HERSHEY_COMPLEX\n",
    "\n",
    "    #reading the training data\n",
    "    rec.read(\"recognizer/trainingData.yml\")\n",
    "    \n",
    "    #initializing the id\n",
    "    id=0\n",
    "    \n",
    "    #get the student list\n",
    "    y=pd.read_csv(\"roll.csv\")\n",
    "    stuList=y[\"Name\"].values.tolist()\n",
    "\n",
    "    #running the image capturing window\n",
    "    while(True):\n",
    "        \n",
    "        #reading the frame\n",
    "        rett,img=cam.read()\n",
    "        \n",
    "        #convering the color image into grayscale as the cascade only understand grayscale value\n",
    "        gray=cv2.cvtColor(img, cv2.COLOR_BGR2GRAY)\n",
    "        \n",
    "        #getting the multiscale value\n",
    "        faces=faceDetect.detectMultiScale(gray,1.3,5)\n",
    "        \n",
    "        #putting a rectangle frame on face\n",
    "        for(x,y,w,h) in faces:\n",
    "            \n",
    "            #plotting the rectangle\n",
    "            cv2.rectangle(img,(x,y),(x+w,y+h),(0,0,255),2)\n",
    "            #predicting student id from the face in rectangle\n",
    "            id,conf=rec.predict(gray[y:y+h,x:x+w])\n",
    "            \n",
    "            #getting student name from student id\n",
    "            id=stuList[id]\n",
    "            \n",
    "            #putting the name in the rectangle\n",
    "            cv2.putText(img,str(id),(x,y+h),font,0.55,(0,255,0),1)\n",
    "        \n",
    "        #starting webcam\n",
    "        cv2.imshow(\"Face\",img)\n",
    "        \n",
    "        #stopping camera\n",
    "        if (cv2.waitKey(1)==ord(\"q\")):\n",
    "            break\n",
    "    \n",
    "    #closing camera window\n",
    "    cam.release()\n",
    "    cv2.destroyWindow(\"Face\")"
   ]
  },
  {
   "cell_type": "code",
   "execution_count": null,
   "metadata": {},
   "outputs": [],
   "source": []
  },
  {
   "cell_type": "markdown",
   "metadata": {},
   "source": [
    "# Instruction"
   ]
  },
  {
   "cell_type": "markdown",
   "metadata": {},
   "source": [
    "\n",
    "1. To check camera and face detection, call : camera()\n",
    "2. To train the machine with a new person, call : train()\n",
    "3. To check face detection and recognition, call : recognize()\n",
    "\n",
    "\n",
    ">> To reset the data, call: reset(**password**)\n",
    "\n",
    "**NB: to close/stop capturing process press \"q\"**"
   ]
  },
  {
   "cell_type": "markdown",
   "metadata": {},
   "source": [
    "# Test"
   ]
  },
  {
   "cell_type": "code",
   "execution_count": 9,
   "metadata": {},
   "outputs": [],
   "source": [
    "#test the camera\n",
    "#press \"q\" to quit\n",
    "\n",
    "camera()"
   ]
  },
  {
   "cell_type": "code",
   "execution_count": 13,
   "metadata": {},
   "outputs": [],
   "source": [
    "#test the face recognisation with name\n",
    "#press \"q\" to quit\n",
    "\n",
    "recognize()"
   ]
  },
  {
   "cell_type": "code",
   "execution_count": null,
   "metadata": {},
   "outputs": [],
   "source": []
  },
  {
   "cell_type": "markdown",
   "metadata": {},
   "source": [
    "# Modifying Data\n"
   ]
  },
  {
   "cell_type": "code",
   "execution_count": 12,
   "metadata": {},
   "outputs": [
    {
     "name": "stdout",
     "output_type": "stream",
     "text": [
      "1\n",
      "Enter student name : sid\n"
     ]
    }
   ],
   "source": [
    "#train the machine with new persoin with name\n",
    "#test the camera first before training the data\n",
    "#train the machine with sufficient lightening condition\n",
    "#avoid quick moment\n",
    "#avoid the presence of any person or face in the background, the machine may predict incorrectly\n",
    "#the auto generated student no will be printed \n",
    "\n",
    "#press \"q\" to quit\n",
    "\n",
    "#remove the \"#\" to run\n",
    "\n",
    "##train()"
   ]
  },
  {
   "cell_type": "code",
   "execution_count": 11,
   "metadata": {},
   "outputs": [
    {
     "name": "stdout",
     "output_type": "stream",
     "text": [
      "Data reset complete\n",
      "Database reset complete\n"
     ]
    }
   ],
   "source": [
    "#Fully reset the student data, image data and attendance sheet\n",
    "#Avoid running the code\n",
    "#password is \"admin\"\n",
    "\n",
    "#remove the \"#\" to run\n",
    "\n",
    "##reset(\"admin\")"
   ]
  },
  {
   "cell_type": "code",
   "execution_count": null,
   "metadata": {},
   "outputs": [],
   "source": []
  }
 ],
 "metadata": {
  "kernelspec": {
   "display_name": "Python 3",
   "language": "python",
   "name": "python3"
  },
  "language_info": {
   "codemirror_mode": {
    "name": "ipython",
    "version": 3
   },
   "file_extension": ".py",
   "mimetype": "text/x-python",
   "name": "python",
   "nbconvert_exporter": "python",
   "pygments_lexer": "ipython3",
   "version": "3.7.1"
  }
 },
 "nbformat": 4,
 "nbformat_minor": 2
}

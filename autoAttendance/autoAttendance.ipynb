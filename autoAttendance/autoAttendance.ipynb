{
 "cells": [
  {
   "cell_type": "markdown",
   "metadata": {},
   "source": [
    "# Autonomous Class Attendance System using Face Recogsition"
   ]
  },
  {
   "cell_type": "markdown",
   "metadata": {},
   "source": [
    "Importing modules"
   ]
  },
  {
   "cell_type": "code",
   "execution_count": 1,
   "metadata": {},
   "outputs": [],
   "source": [
    "#for mathematical and matrix calculations, used by openCV\n",
    "import numpy as np\n",
    "\n",
    "#for image racognization\n",
    "import cv2\n",
    "\n",
    "#to interact with data frames and csv files\n",
    "import pandas as pd\n",
    "\n",
    "#to get the system time\n",
    "import datetime\n",
    "\n",
    "#to manipulate the processing speed and pattern\n",
    "import time"
   ]
  },
  {
   "cell_type": "markdown",
   "metadata": {},
   "source": [
    "# Modifying the database"
   ]
  },
  {
   "cell_type": "code",
   "execution_count": 2,
   "metadata": {},
   "outputs": [],
   "source": [
    "def exportStu(x):\n",
    "    \n",
    "    #get the previous data\n",
    "    att=pd.read_csv(\"attendance.csv\")\n",
    "    #adding the data to the data frame\n",
    "    m=att.append(x,ignore_index=True)\n",
    "    #writting back the updated data to the csv databse\n",
    "    m.to_csv(\"attendance.csv\",index=False)\n",
    "    \n",
    "    #fromatting the dictionary to fir the data frame\n",
    "    for i in x:\n",
    "        x[i]=[x[i]]\n",
    "    \n",
    "    #converting the dictionary to dataframe\n",
    "    x=pd.DataFrame.from_dict(x)\n",
    "    #printing today's attendance report\n",
    "    print(\"Today's Report \\n\",x)\n",
    "    \n",
    "    #returning today's data as well as historical data\n",
    "    return m,x\n",
    "    \n",
    "    "
   ]
  },
  {
   "cell_type": "code",
   "execution_count": 3,
   "metadata": {},
   "outputs": [],
   "source": [
    "def update(x,y):\n",
    "    #creating a blank dictionary to update the data frame\n",
    "    attend={}\n",
    "    \n",
    "    #putting the recognised persons (images) in the attendance register\n",
    "    for i in y:\n",
    "        \n",
    "        #assigning the first coloum as date components\n",
    "        #we have used \"Dummy\" value to lavel the index no and roll no\n",
    "        if i=='Dummy':\n",
    "            date=datetime.datetime.now()\n",
    "            d=str(date.day)+\":\"+str(date.month)+\":\"+str(date.year)+\"  \"+str(date.hour)+\":\"+str(date.minute)\n",
    "            attend[\"Date\"]=d\n",
    "            \n",
    "            #to skeep the firts iteration to assign date\n",
    "            continue    \n",
    "        \n",
    "        #as index is same as roll no\n",
    "        j=y.index(i)\n",
    "        \n",
    "        #1: present 0: absent\n",
    "        if i in x:\n",
    "            attend[str(j)]=1\n",
    "        else:\n",
    "            attend[str(j)]=0\n",
    "    \n",
    "    #printing acknowledgement with some dramatic effect\n",
    "    time.sleep(1)\n",
    "    print(\"Updation Complete.\",end=\"\")\n",
    "    time.sleep(1)\n",
    "    print(\".\",end=\"\")\n",
    "    time.sleep(0.7)\n",
    "    print(\".\",end=\"\")\n",
    "    time.sleep(0.6)\n",
    "    print(\".\",end=\"\")\n",
    "    time.sleep(0.5)\n",
    "    print(\".\",end=\"\")\n",
    "    time.sleep(0.25)\n",
    "    print(\".\")\n",
    "    \n",
    "    #returning today's data as well as historical data\n",
    "    return exportStu(attend)"
   ]
  },
  {
   "cell_type": "code",
   "execution_count": null,
   "metadata": {},
   "outputs": [],
   "source": []
  },
  {
   "cell_type": "markdown",
   "metadata": {},
   "source": [
    "Attendance keeper\n",
    "-----------------"
   ]
  },
  {
   "cell_type": "code",
   "execution_count": 4,
   "metadata": {},
   "outputs": [],
   "source": [
    "#this will start the process of attendance taking\n",
    "def start():\n",
    "    #getting the cascade information from openCV\n",
    "    faceDetect = cv2.CascadeClassifier('haarcascade_frontalface_default.xml')\n",
    "    \n",
    "    #getting the image source from web camera\n",
    "    cam=cv2.VideoCapture(0)\n",
    "    rec=cv2.face.LBPHFaceRecognizer_create()\n",
    "    \n",
    "    #declaring font of the text in the frame\n",
    "    font=cv2.FONT_HERSHEY_COMPLEX\n",
    "    \n",
    "    #get the student list\n",
    "    y=pd.read_csv(\"roll.csv\")\n",
    "    stuList=y[\"Name\"].values.tolist()\n",
    "\n",
    "    #reading the training data\n",
    "    rec.read(\"recognizer/trainingData.yml\")\n",
    "    \n",
    "    #initializing id value\n",
    "    id=0\n",
    "    \n",
    "    #initializing an empty set to contain the student name \n",
    "    a=set()\n",
    "    \n",
    "    #running the image capturing window\n",
    "    while(True):\n",
    "        \n",
    "        #reading the frame\n",
    "        rett,img=cam.read()\n",
    "        \n",
    "        #convering the color image into grayscale as the cascade only understand grayscale value\n",
    "        gray=cv2.cvtColor(img, cv2.COLOR_BGR2GRAY)\n",
    "        \n",
    "        #getting the multiscale value\n",
    "        faces=faceDetect.detectMultiScale(gray,1.3,5)\n",
    "        \n",
    "        #putting a rectangle frame on face \n",
    "        for(x,y,w,h) in faces:\n",
    "            \n",
    "            #plotting the rectangle\n",
    "            cv2.rectangle(img,(x,y),(x+w,y+h),(0,0,255),2)\n",
    "            #predicting student id from the face in rectangle\n",
    "            id,conf=rec.predict(gray[y:y+h,x:x+w])\n",
    "            \n",
    "            #getting student name from student id\n",
    "            id=stuList[id]\n",
    "            \n",
    "            #putting the name in the rectangle\n",
    "            cv2.putText(img,str(id),(x,y+h),font,0.55,(0,255,0),1)\n",
    "        \n",
    "        #starting webcam\n",
    "        cv2.imshow(\"Face\",img)\n",
    "        \n",
    "        #updating the attened student list\n",
    "        a.add(id)\n",
    "        \n",
    "        #stopping camera\n",
    "        if (cv2.waitKey(1)==ord(\"q\")):\n",
    "            break\n",
    "    \n",
    "    #closing camera window\n",
    "    cam.release()\n",
    "    cv2.destroyWindow(\"Face\")\n",
    "    \n",
    "    #printing attended student list\n",
    "    print(\"Student Presnt :\",a)\n",
    "    \n",
    "    #returning today's data as well as historical data\n",
    "    return update(a,stuList)"
   ]
  },
  {
   "cell_type": "code",
   "execution_count": null,
   "metadata": {},
   "outputs": [],
   "source": []
  },
  {
   "cell_type": "markdown",
   "metadata": {},
   "source": [
    "# Running the Autonomous Attendance Taker"
   ]
  },
  {
   "cell_type": "markdown",
   "metadata": {},
   "source": [
    "Instructions:\n",
    "----------------\n",
    "\n",
    "1. To start the system call : start()\n",
    "2. It will return two values (respectively):\n",
    "        i. All historical data in a data frame\n",
    "        ii. Attendance sheet of today's class"
   ]
  },
  {
   "cell_type": "code",
   "execution_count": null,
   "metadata": {},
   "outputs": [],
   "source": []
  },
  {
   "cell_type": "code",
   "execution_count": 5,
   "metadata": {},
   "outputs": [
    {
     "name": "stdout",
     "output_type": "stream",
     "text": [
      "Student Presnt : {'sid'}\n",
      "Updation Complete......\n",
      "Today's Report \n",
      "              Date  1\n",
      "0  7:3:2019  11:7  1\n"
     ]
    }
   ],
   "source": [
    "all,today=start()\n"
   ]
  },
  {
   "cell_type": "code",
   "execution_count": 6,
   "metadata": {},
   "outputs": [
    {
     "data": {
      "text/html": [
       "<div>\n",
       "<style scoped>\n",
       "    .dataframe tbody tr th:only-of-type {\n",
       "        vertical-align: middle;\n",
       "    }\n",
       "\n",
       "    .dataframe tbody tr th {\n",
       "        vertical-align: top;\n",
       "    }\n",
       "\n",
       "    .dataframe thead th {\n",
       "        text-align: right;\n",
       "    }\n",
       "</style>\n",
       "<table border=\"1\" class=\"dataframe\">\n",
       "  <thead>\n",
       "    <tr style=\"text-align: right;\">\n",
       "      <th></th>\n",
       "      <th>Date</th>\n",
       "      <th>1</th>\n",
       "    </tr>\n",
       "  </thead>\n",
       "  <tbody>\n",
       "    <tr>\n",
       "      <th>0</th>\n",
       "      <td>7:3:2019  11:7</td>\n",
       "      <td>1.0</td>\n",
       "    </tr>\n",
       "  </tbody>\n",
       "</table>\n",
       "</div>"
      ],
      "text/plain": [
       "             Date    1\n",
       "0  7:3:2019  11:7  1.0"
      ]
     },
     "execution_count": 6,
     "metadata": {},
     "output_type": "execute_result"
    }
   ],
   "source": [
    "all"
   ]
  },
  {
   "cell_type": "code",
   "execution_count": null,
   "metadata": {},
   "outputs": [],
   "source": []
  },
  {
   "cell_type": "code",
   "execution_count": null,
   "metadata": {},
   "outputs": [],
   "source": []
  }
 ],
 "metadata": {
  "kernelspec": {
   "display_name": "Python 3",
   "language": "python",
   "name": "python3"
  },
  "language_info": {
   "codemirror_mode": {
    "name": "ipython",
    "version": 3
   },
   "file_extension": ".py",
   "mimetype": "text/x-python",
   "name": "python",
   "nbconvert_exporter": "python",
   "pygments_lexer": "ipython3",
   "version": "3.7.1"
  }
 },
 "nbformat": 4,
 "nbformat_minor": 2
}
